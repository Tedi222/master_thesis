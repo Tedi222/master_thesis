{
 "cells": [
  {
   "cell_type": "code",
   "execution_count": 1,
   "id": "ff37d895-cb19-44ec-9808-66fa8a6db013",
   "metadata": {
    "tags": [],
    "pycharm": {
     "name": "#%%\n"
    }
   },
   "outputs": [],
   "source": [
    "!nib-tck2trk '/home/teodorps/data_full/subj02/T1.nii.gz' '/home/teodorps/data_full/subj02/tracts1M.tck'"
   ]
  },
  {
   "cell_type": "code",
   "execution_count": 68,
   "id": "04ae909e",
   "metadata": {
    "tags": [],
    "pycharm": {
     "name": "#%%\n"
    }
   },
   "outputs": [
    {
     "name": "stdout",
     "output_type": "stream",
     "text": [
      "/home/teodorps/data_full/subj02/T1.nii.gz int16 [222, 156, 205] 0.98x1.20x0.98   sform\n",
      "\n"
     ]
    }
   ],
   "source": [
    "!nib-ls /home/teodorps/data_full/subj02/T1.nii.gz"
   ]
  },
  {
   "cell_type": "code",
   "execution_count": 17,
   "id": "cc2cad18-7984-498a-82d7-7014841ef3b3",
   "metadata": {
    "tags": [],
    "pycharm": {
     "name": "#%%\n"
    }
   },
   "outputs": [],
   "source": [
    "import argparse\n",
    "import os\n",
    "\n",
    "import nibabel as nib\n",
    "from nibabel.orientations import aff2axcodes\n",
    "from nibabel.streamlines import Field"
   ]
  },
  {
   "cell_type": "code",
   "execution_count": 70,
   "id": "48cdfbca-4ff1-44a7-9e84-99a4efaf919d",
   "metadata": {
    "tags": [],
    "pycharm": {
     "name": "#%%\n"
    }
   },
   "outputs": [],
   "source": [
    "nii = nib.load('/home/teodorps/data_full/subj02/T1.nii.gz')"
   ]
  },
  {
   "cell_type": "code",
   "execution_count": 1,
   "id": "8a8df863-7f5d-4893-88b3-78da21be6a23",
   "metadata": {
    "tags": [],
    "pycharm": {
     "name": "#%%\n"
    }
   },
   "outputs": [],
   "source": [
    "# print(nii.header)"
   ]
  },
  {
   "cell_type": "code",
   "execution_count": 60,
   "id": "bdfc51c6-e390-40fc-bc67-14f851c7c94a",
   "metadata": {
    "tags": [],
    "pycharm": {
     "name": "#%%\n"
    }
   },
   "outputs": [],
   "source": [
    "anatomy = '/home/teodorps/data_full/subj02/nodif_brain_mask.nii.gz'\n",
    "tractograms = ['/home/teodorps/data_full/subj02/tracts100k.tck']"
   ]
  },
  {
   "cell_type": "code",
   "execution_count": 61,
   "id": "253c6b7a-6768-4d2b-b5ac-762f910b2d5c",
   "metadata": {
    "tags": [],
    "pycharm": {
     "name": "#%%\n"
    }
   },
   "outputs": [],
   "source": [
    "def tck2trk(anatomy, tractograms):\n",
    "    nii = nib.load(anatomy)\n",
    "\n",
    "    for tractogram in tractograms:\n",
    "        tractogram_format = nib.streamlines.detect_format(tractogram)\n",
    "\n",
    "        filename, _ = os.path.splitext(tractogram)\n",
    "        output_filename = filename + '.trk'\n",
    "\n",
    "        # Build header using infos from the anatomical image.\n",
    "        header = {}\n",
    "        header[Field.VOXEL_TO_RASMM] = nii.affine.copy()\n",
    "        header[Field.VOXEL_SIZES] = nii.header.get_zooms()[:3]\n",
    "        header[Field.DIMENSIONS] = nii.shape[:3]\n",
    "        header[Field.VOXEL_ORDER] = ''.join(aff2axcodes(nii.affine))\n",
    "\n",
    "        tck = nib.streamlines.load(tractogram)\n",
    "        nib.streamlines.save(tck.tractogram, output_filename, header=header)"
   ]
  },
  {
   "cell_type": "code",
   "execution_count": 62,
   "id": "52d821c0-47c4-4933-9777-8e8299e23147",
   "metadata": {
    "tags": [],
    "pycharm": {
     "name": "#%%\n"
    }
   },
   "outputs": [],
   "source": [
    "tck2trk(anatomy, tractograms)"
   ]
  },
  {
   "cell_type": "code",
   "execution_count": 3,
   "id": "a6a44c33-41f5-4005-827f-1e6740324e9f",
   "metadata": {
    "pycharm": {
     "name": "#%%\n"
    }
   },
   "outputs": [],
   "source": [
    "!nib-tck2trk '/home//teodorps/data_full/subj02/eddy_corrected_data.nii.gz' '/home/teodorps/data_full/subj02/tracts100k.tck' -f"
   ]
  },
  {
   "cell_type": "code",
   "execution_count": 4,
   "id": "cd5adb45-8f15-4f26-be6c-f89bae41487e",
   "metadata": {
    "tags": [],
    "pycharm": {
     "name": "#%%\n"
    }
   },
   "outputs": [],
   "source": [
    "!nib-tck2trk '/home//teodorps/data_full/subj02/eddy_corrected_data.nii.gz' '/home/teodorps/data_full/subj02/tracts1M.tck' -f"
   ]
  },
  {
   "cell_type": "code",
   "execution_count": null,
   "id": "49090125-031d-4569-a22f-674d91c9134a",
   "metadata": {
    "pycharm": {
     "name": "#%%\n"
    }
   },
   "outputs": [],
   "source": []
  }
 ],
 "metadata": {
  "kernelspec": {
   "display_name": "Python 3 (ipykernel)",
   "language": "python",
   "name": "python3"
  },
  "language_info": {
   "codemirror_mode": {
    "name": "ipython",
    "version": 3
   },
   "file_extension": ".py",
   "mimetype": "text/x-python",
   "name": "python",
   "nbconvert_exporter": "python",
   "pygments_lexer": "ipython3",
   "version": "3.8.10"
  }
 },
 "nbformat": 4,
 "nbformat_minor": 5
}